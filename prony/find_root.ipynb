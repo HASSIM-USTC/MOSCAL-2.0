{
 "cells": [
  {
   "cell_type": "code",
   "execution_count": 2,
   "id": "2d7c6986",
   "metadata": {
    "ExecuteTime": {
     "end_time": "2023-03-01T00:13:04.249000+08:00",
     "start_time": "2023-02-28T16:12:54.607Z"
    }
   },
   "outputs": [
    {
     "name": "stderr",
     "output_type": "stream",
     "text": [
      "WARNING: replacing module FastPolynomialRoots.\n"
     ]
    },
    {
     "data": {
      "text/plain": [
       "Main.FastPolynomialRoots"
      ]
     },
     "execution_count": 2,
     "metadata": {},
     "output_type": "execute_result"
    }
   ],
   "source": [
    "# pancil method\n",
    "\n",
    "using LinearAlgebra\n",
    "module FastPolynomialRoots\n",
    "using LibAMVW_jll, Polynomials\n",
    "Polynomials.roots(p::Union{Polynomial{Float64},Polynomial{Complex{Float64}}}) = rootsFastPolynomialRoots(coeffs(p))\n",
    "Polynomials.roots(p::Polynomial{T}) where {T <:Integer} = roots(convert(Polynomial{float(T)}, p))\n",
    "function rootsFastPolynomialRoots(a::Vector{Float64})\n",
    "    pl    = reverse!(a[1:end - 1] ./ a[end])\n",
    "    np    = length(pl)\n",
    "    reigs = similar(pl)\n",
    "    ieigs = similar(pl)\n",
    "    its   = Vector{Int32}(undef, np)\n",
    "    flag  = Int32[0]\n",
    "\n",
    "    ccall((:damvw_, libamvwdouble), Cvoid,\n",
    "        (Ref{Int32}, Ptr{Float64}, Ptr{Float64}, Ptr{Float64}, Ptr{Int32}, Ptr{Int32}),\n",
    "        np, pl, reigs, ieigs, its, flag)\n",
    "\n",
    "    if flag[1] != 0\n",
    "        error(\"error code: $(flag[1])\")\n",
    "    end\n",
    "    return complex.(reigs, ieigs)\n",
    "end\n",
    "\n",
    "function rootsFastPolynomialRoots(a::Vector{Complex{Float64}})\n",
    "    pl    = reverse!(a[1:end - 1] ./ a[end])\n",
    "    plr   = real(pl)\n",
    "    pli   = imag(pl)\n",
    "    np    = length(pl)\n",
    "    reigs = similar(plr)\n",
    "    ieigs = similar(plr)\n",
    "    its   = Vector{Int32}(undef, np)\n",
    "    flag  = Int32[0]\n",
    "\n",
    "    ccall((:zamvw_, libamvwsingle), Cvoid,\n",
    "        (Ref{Int32}, Ptr{Float64}, Ptr{Float64}, Ptr{Float64}, Ptr{Float64}, Ptr{Int32}, Ptr{Int32}),\n",
    "        np, plr, pli, reigs, ieigs, its, flag)\n",
    "\n",
    "    if flag[1] != 0\n",
    "        error(\"error code: $(flag[1])\")\n",
    "    end\n",
    "    return complex.(reigs, ieigs)\n",
    "end\n",
    "\n",
    "end # module"
   ]
  },
  {
   "cell_type": "code",
   "execution_count": 3,
   "id": "0cb16557",
   "metadata": {},
   "outputs": [
    {
     "name": "stdout",
     "output_type": "stream",
     "text": [
      "[0.01945870859284519, 0.011623035097551056, 0.006260690553425728, 0.004321396030051534, 0.0029427789696667636, 0.002587127165773514, 0.002294380625496655, 0.002043756268045034, 0.0018799536545543625, 0.001057410897285507, 0.0009836140050846016, 0.0009049440188799685, 0.0006552013868629646, 0.00027393692604621477, 0.00011440636516147428, 4.632631180419385e-5, 1.1733147914020653e-5, 2.9644619570952803e-6, 9.943698176301225e-7, 3.5904545562697633e-7]\n",
      "[0.07725413357497686, 0.04756306111063494, 0.02352386538424301, 0.011958997091005794, 0.003129659492748492, 0.002898355155458097, 0.0025582724321977527, 0.0009350014061693463, 0.0005498214751823151, 0.0005217883863736603, 0.00031548738709639615, 0.0002424237012540267, 0.00015417077485146519, 0.00011863425644648085, 0.0001014651504778381, 6.875101368965793e-5, 4.646495187115566e-5, 1.3381407039872388e-5, 1.4889731272329147e-6, 6.949922618163177e-7]\n"
     ]
    }
   ],
   "source": [
    "using NPZ\n",
    "using Test, Polynomials, LinearAlgebra\n",
    "Qp_r = (npzread(\"Qp_r.npy\"))\n",
    "Qp_i = (npzread(\"Qp_i.npy\"))\n",
    "println(npzread(\"vs_r.npy\")[1:20])\n",
    "println(npzread(\"vs_i.npy\")[1:20])"
   ]
  },
  {
   "cell_type": "code",
   "execution_count": 5,
   "id": "a4562bd7",
   "metadata": {},
   "outputs": [
    {
     "name": "stdout",
     "output_type": "stream",
     "text": [
      "3.749399456654646e-33\n",
      "1.0\n",
      "imag\n",
      "3.7493994566546427e-33\n",
      "1.0\n",
      " Random shift!\n",
      "imag\n"
     ]
    }
   ],
   "source": [
    "i = 2\n",
    "println(sum(real(Qp_r[:, i]).^2))\n",
    "println(sum(imag(Qp_r[:, i]).^2))\n",
    "\n",
    "if sum(real(Qp_r[:, i]).^2) < 1e-15\n",
    "    gamma_r = roots(Polynomial(imag(Qp_r)[:, i]))\n",
    "    println(\"imag\")\n",
    "else\n",
    "    gamma_r = roots(Polynomial(real(Qp_r)[:, i]))\n",
    "    println(\"real\")\n",
    "end\n",
    "npzwrite(\"gamma_new_r.npy\", gamma_r)\n",
    "\n",
    "\n",
    "println(sum(real(Qp_i[:, i]).^2))\n",
    "println(sum(imag(Qp_i[:, i]).^2))\n",
    "if sum(real(Qp_i[:, i]).^2) < 1e-15\n",
    "    gamma_i = roots(Polynomial(imag(Qp_i)[:, i]))\n",
    "    println(\"imag\")\n",
    "else\n",
    "    gamma_i = roots(Polynomial(real(Qp_i)[:, i]))\n",
    "    println(\"real\")\n",
    "end\n",
    "npzwrite(\"gamma_new_i.npy\", gamma_i)"
   ]
  },
  {
   "cell_type": "code",
   "execution_count": null,
   "id": "e441dc04",
   "metadata": {},
   "outputs": [],
   "source": [
    "length(Qp_r[:, 1])"
   ]
  },
  {
   "cell_type": "code",
   "execution_count": null,
   "id": "6e2a27a5",
   "metadata": {},
   "outputs": [],
   "source": []
  }
 ],
 "metadata": {
  "kernelspec": {
   "display_name": "Julia 1.9.0-beta4",
   "language": "julia",
   "name": "julia-1.9"
  },
  "language_info": {
   "file_extension": ".jl",
   "mimetype": "application/julia",
   "name": "julia",
   "version": "1.9.0"
  },
  "latex_envs": {
   "LaTeX_envs_menu_present": true,
   "autoclose": false,
   "autocomplete": true,
   "bibliofile": "biblio.bib",
   "cite_by": "apalike",
   "current_citInitial": 1,
   "eqLabelWithNumbers": true,
   "eqNumInitial": 1,
   "hotkeys": {
    "equation": "Ctrl-E",
    "itemize": "Ctrl-I"
   },
   "labels_anchors": false,
   "latex_user_defs": false,
   "report_style_numbering": false,
   "user_envs_cfg": false
  },
  "vscode": {
   "interpreter": {
    "hash": "c0de804a3ea3c85cb246be3a1653390f884ccd61a606e2aac592a4f77f69b096"
   }
  }
 },
 "nbformat": 4,
 "nbformat_minor": 5
}
