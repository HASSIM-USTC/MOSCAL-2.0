{
 "cells": [
  {
   "cell_type": "markdown",
   "id": "a07da7c4",
   "metadata": {},
   "source": [
    "# ohmic fermion version\n",
    "This file is the input file of spin-spin bath. According to Nancy and ... the bath corrlation of this tyoe of bath can be recast as:\n",
    "$$\n",
    "  C(t) \\equiv \\langle \\hat{F}(t) \\hat{F}(0) \\rangle_{\\mathrm{B}} = \\frac{1}{\\pi} \\int_{- \\infty}^{+\\infty} d \\omega \\frac{e^{- i \\omega t} J(\\omega) }{1 + e^{- \\beta \\omega}}.\n",
    "$$\n",
    "We often use the Ohmic form specturm function , \n",
    "$$\n",
    "  J(\\omega) = \\frac{\\pi}{2} \\alpha \\omega e^{ - \\omega / \\omega_c}.\n",
    "$$\n",
    "Note the distribution function is fermion type."
   ]
  },
  {
   "cell_type": "code",
   "execution_count": 1,
   "id": "e81f610f",
   "metadata": {
    "ExecuteTime": {
     "end_time": "2022-07-25T18:09:15.847134Z",
     "start_time": "2022-07-25T18:09:15.803569Z"
    }
   },
   "outputs": [],
   "source": [
    "import math\n",
    "from cvxopt import solvers, matrix, spmatrix, mul\n",
    "from scipy import sparse\n",
    "\n",
    "\n",
    "def fit_J(w, res, expn, etal):\n",
    "    for i in range(len(etal)):\n",
    "        res += etal[i] / (expn[i] - 1.j * w)\n",
    "    return res\n",
    "\n",
    "\n",
    "def fit_t(t, res, expn, etal):\n",
    "    for i in range(len(etal)):\n",
    "        res += etal[i] * np.exp(-expn[i] * t)\n",
    "    return res\n",
    "\n",
    "\n",
    "def numpy_to_cvxopt_matrix(A):\n",
    "    if A is None:\n",
    "        return A\n",
    "    if sparse.issparse(A):\n",
    "        if isinstance(A, sparse.spmatrix):\n",
    "            return scipy_sparse_to_spmatrix(A)\n",
    "        else:\n",
    "            return A\n",
    "    else:\n",
    "        if isinstance(A, np.ndarray):\n",
    "            if A.ndim == 1:\n",
    "                return matrix(A, (A.shape[0], 1), 'd')\n",
    "            else:\n",
    "                return matrix(A, A.shape, 'd')\n",
    "        else:\n",
    "            return A"
   ]
  },
  {
   "cell_type": "code",
   "execution_count": 2,
   "id": "2adba7f1",
   "metadata": {
    "ExecuteTime": {
     "end_time": "2022-07-25T18:09:16.768691Z",
     "start_time": "2022-07-25T18:09:16.617007Z"
    }
   },
   "outputs": [
    {
     "name": "stderr",
     "output_type": "stream",
     "text": [
      "/tmp/ipykernel_232032/3921547952.py:21: RuntimeWarning: overflow encountered in exp\n",
      "  jw1 = jw  / (1 + np.exp(- beta * w))\n"
     ]
    },
    {
     "data": {
      "text/plain": [
       "(-100.0, 100.0)"
      ]
     },
     "execution_count": 2,
     "metadata": {},
     "output_type": "execute_result"
    },
    {
     "data": {
      "image/png": "[encoded data removed]",
      "text/plain": [
       "<Figure size 432x288 with 1 Axes>"
      ]
     },
     "metadata": {
      "image/png": {
       "height": 250,
       "width": 390
      },
      "needs_background": "light"
     },
     "output_type": "display_data"
    }
   ],
   "source": [
    "gams1 = 1\n",
    "lams1 = 1\n",
    "\n",
    "beta = 100000000000\n",
    "\n",
    "def gen_jw(w):\n",
    "    return w * lams1 * np.exp(- gams1 * np.abs(w))\n",
    "#     return w * lams1 * gams1 / (w * w + gams1 * gams1)\n",
    "\n",
    "#     jw = np.zeros_like(w)\n",
    "#     index = (w<=gams1) & (w>=-gams1)\n",
    "#     jw[index] = lams1 * np.sqrt(gams1**2 - w[index]**2)\n",
    "#     return jw\n",
    "\n",
    "len_ = 100000\n",
    "spe_wid = 100\n",
    "w = np.linspace(-spe_wid, spe_wid, len_)\n",
    "\n",
    "sigma = 1\n",
    "jw = gen_jw(w)\n",
    "jw1 = jw  / (1 + np.exp(- beta * w))\n",
    "plt.plot(w, jw)\n",
    "plt.plot(w, jw1)\n",
    "plt.xlim(-100, 100)"
   ]
  },
  {
   "cell_type": "code",
   "execution_count": 3,
   "id": "33d5e460",
   "metadata": {
    "ExecuteTime": {
     "end_time": "2022-07-25T18:09:19.366644Z",
     "start_time": "2022-07-25T18:09:17.988884Z"
    }
   },
   "outputs": [
    {
     "name": "stdout",
     "output_type": "stream",
     "text": [
      "250.0\n"
     ]
    },
    {
     "name": "stderr",
     "output_type": "stream",
     "text": [
      "/tmp/ipykernel_232032/356368677.py:16: RuntimeWarning: overflow encountered in exp\n",
      "  cw2 = jw / (1 + np.exp(+beta * w))\n"
     ]
    }
   ],
   "source": [
    "n = 2000\n",
    "scale = 200\n",
    "\n",
    "n_fft = 10000000\n",
    "scale_fft = 10000\n",
    "\n",
    "n_rate = (scale_fft * scale/ (4 * n))\n",
    "print(n_rate)\n",
    "n_rate = int(n_rate)\n",
    "\n",
    "w = np.linspace(0, scale_fft * np.pi, n_fft + 1)[:-1]\n",
    "dw = w[1] - w[0]\n",
    "\n",
    "jw = gen_jw(w)\n",
    "cw1 = jw / (1 + np.exp(-beta * w))\n",
    "cw2 = jw / (1 + np.exp(+beta * w))\n",
    "del jw\n",
    "\n",
    "cw1[0] = 0\n",
    "cw2[0] = 0\n",
    "fft_ct = (np.fft.fft(cw1) * dw - np.fft.ifft(cw2) * len(cw2) * dw) / np.pi\n",
    "fft_t = 2 * np.pi * np.fft.fftfreq(len(cw1), dw)\n",
    "# del cw1, cw2\n",
    "\n",
    "fft_ct = fft_ct[(scale>=fft_t) & (fft_t >= 0)][::n_rate]\n",
    "fft_t = fft_t[(scale>=fft_t) & (fft_t >= 0)][::n_rate]\n",
    "\n",
    "t = fft_t\n",
    "res_t = np.zeros(len(t), dtype=complex)"
   ]
  },
  {
   "cell_type": "code",
   "execution_count": 4,
   "id": "864f21e9",
   "metadata": {
    "ExecuteTime": {
     "end_time": "2022-07-25T18:09:25.543629Z",
     "start_time": "2022-07-25T18:09:25.541204Z"
    }
   },
   "outputs": [],
   "source": [
    "# cw1"
   ]
  },
  {
   "cell_type": "code",
   "execution_count": 5,
   "id": "67a5497e",
   "metadata": {
    "ExecuteTime": {
     "end_time": "2022-07-26T10:52:27.447440Z",
     "start_time": "2022-07-26T10:52:27.153318Z"
    }
   },
   "outputs": [
    {
     "name": "stderr",
     "output_type": "stream",
     "text": [
      "/tmp/ipykernel_232032/4036198503.py:7: RuntimeWarning: overflow encountered in exp\n",
      "  jw1 = jw / (1 + np.exp(-beta * w))\n",
      "/home/dhem/anaconda3/lib/python3.9/site-packages/matplotlib/cbook/__init__.py:1298: ComplexWarning: Casting complex values to real discards the imaginary part\n",
      "  return np.asarray(x, float)\n"
     ]
    },
    {
     "data": {
      "text/plain": [
       "array([ 3.18309624e-01+0.00000000e+00j,  3.15932213e-01-3.16724285e-02j,\n",
       "        3.08917283e-01-6.24075848e-02j, ...,\n",
       "       -8.23215659e-06-7.96396665e-08j, -8.22817650e-06-7.95798846e-08j,\n",
       "       -8.22419940e-06-7.95201624e-08j])"
      ]
     },
     "execution_count": 5,
     "metadata": {},
     "output_type": "execute_result"
    },
    {
     "data": {
      "image/png": "[encoded data removed]",
      "text/plain": [
       "<Figure size 432x288 with 1 Axes>"
      ]
     },
     "metadata": {
      "image/png": {
       "height": 248,
       "width": 389
      },
      "needs_background": "light"
     },
     "output_type": "display_data"
    }
   ],
   "source": [
    "len_ = 1000000\n",
    "spe_wid = 10\n",
    "w = np.linspace(-spe_wid, spe_wid, len_)\n",
    "\n",
    "sigma = 1\n",
    "jw = gen_jw(w)\n",
    "jw1 = jw / (1 + np.exp(-beta * w))\n",
    "# plt.plot(w, jw)\n",
    "plt.plot(w, jw1)\n",
    "fft_ct[0] = fft_ct[0] / 2\n",
    "plt.plot(2 * np.pi * np.fft.fftfreq(len(fft_ct), fft_t[1] - fft_t[0]),\n",
    "         len(fft_ct) * (fft_t[1] - fft_t[0]) * np.fft.ifft(fft_ct), '--')\n",
    "plt.xlim(-10, 10)\n",
    "fft_ct[0] = fft_ct[0] * 2\n",
    "\n",
    "fft_ct"
   ]
  },
  {
   "cell_type": "code",
   "execution_count": 6,
   "id": "aaed5dec",
   "metadata": {
    "ExecuteTime": {
     "end_time": "2022-07-25T18:09:31.148590Z",
     "start_time": "2022-07-25T18:09:31.016018Z"
    }
   },
   "outputs": [
    {
     "data": {
      "image/png": "[encoded data removed]",
      "text/plain": [
       "<Figure size 432x288 with 1 Axes>"
      ]
     },
     "metadata": {
      "image/png": {
       "height": 248,
       "width": 380
      },
      "needs_background": "light"
     },
     "output_type": "display_data"
    },
    {
     "name": "stdout",
     "output_type": "stream",
     "text": [
      "[0.31830962+0.j         0.31593221-0.03167243j 0.30891728-0.06240758j\n",
      " 0.29760476-0.09133658j 0.28252331-0.11771815j 0.26434013-0.14098154j\n",
      " 0.24380245-0.16074904j 0.22167874-0.17683795j 0.19870686-0.18924488j\n",
      " 0.17555371-0.19811733j]\n",
      "[-8.26010111e-06-8.00598191e-08j -8.25610003e-06-7.99996169e-08j\n",
      " -8.25210195e-06-7.99394749e-08j -8.24810688e-06-7.98793931e-08j\n",
      " -8.24411481e-06-7.98193715e-08j -8.24012574e-06-7.97594099e-08j\n",
      " -8.23613967e-06-7.96995082e-08j -8.23215659e-06-7.96396665e-08j\n",
      " -8.22817650e-06-7.95798846e-08j -8.22419940e-06-7.95201624e-08j]\n"
     ]
    }
   ],
   "source": [
    "plt.plot(fft_t, np.imag(fft_ct))\n",
    "plt.plot(fft_t, np.real(fft_ct))\n",
    "# plt.xlim(0, 10)\n",
    "plt.show()\n",
    "print(fft_ct[:10])\n",
    "print(fft_ct[-10:])"
   ]
  },
  {
   "cell_type": "code",
   "execution_count": 7,
   "id": "79145dcc",
   "metadata": {
    "ExecuteTime": {
     "end_time": "2022-07-25T18:09:34.568028Z",
     "start_time": "2022-07-25T18:09:33.007841Z"
    }
   },
   "outputs": [
    {
     "name": "stdout",
     "output_type": "stream",
     "text": [
      "[-8.63290626e-06-8.57346646e-08j -8.62862163e-06-8.56687138e-08j\n",
      " -8.62434029e-06-8.56028306e-08j -8.62006225e-06-8.55370148e-08j\n",
      " -8.61578749e-06-8.54712665e-08j -8.61151602e-06-8.54055854e-08j\n",
      " -8.60724783e-06-8.53399716e-08j -8.60298291e-06-8.52744248e-08j\n",
      " -8.59872128e-06-8.52089451e-08j -8.59446291e-06-8.51435324e-08j\n",
      " -8.59020781e-06-8.50781865e-08j -8.58595598e-06-8.50129074e-08j\n",
      " -8.58170741e-06-8.49476950e-08j -8.57746210e-06-8.48825492e-08j\n",
      " -8.57322004e-06-8.48174699e-08j -8.56898124e-06-8.47524571e-08j\n",
      " -8.56474568e-06-8.46875106e-08j -8.56051337e-06-8.46226304e-08j\n",
      " -8.55628430e-06-8.45578164e-08j -8.55205847e-06-8.44930685e-08j\n",
      " -8.54783587e-06-8.44283866e-08j -8.54361651e-06-8.43637707e-08j\n",
      " -8.53940037e-06-8.42992205e-08j -8.53518746e-06-8.42347362e-08j\n",
      " -8.53097777e-06-8.41703175e-08j -8.52677130e-06-8.41059645e-08j\n",
      " -8.52256805e-06-8.40416769e-08j -8.51836800e-06-8.39774548e-08j\n",
      " -8.51417117e-06-8.39132980e-08j -8.50997754e-06-8.38492065e-08j\n",
      " -8.50578712e-06-8.37851802e-08j -8.50159989e-06-8.37212190e-08j\n",
      " -8.49741586e-06-8.36573228e-08j -8.49323503e-06-8.35934915e-08j\n",
      " -8.48905738e-06-8.35297251e-08j -8.48488292e-06-8.34660234e-08j\n",
      " -8.48071164e-06-8.34023864e-08j -8.47654354e-06-8.33388141e-08j\n",
      " -8.47237861e-06-8.32753062e-08j -8.46821686e-06-8.32118628e-08j\n",
      " -8.46405829e-06-8.31484838e-08j -8.45990287e-06-8.30851690e-08j\n",
      " -8.45575062e-06-8.30219185e-08j -8.45160153e-06-8.29587320e-08j\n",
      " -8.44745560e-06-8.28956096e-08j -8.44331283e-06-8.28325511e-08j\n",
      " -8.43917320e-06-8.27695565e-08j -8.43503672e-06-8.27066257e-08j\n",
      " -8.43090338e-06-8.26437586e-08j -8.42677319e-06-8.25809552e-08j\n",
      " -8.42264613e-06-8.25182153e-08j -8.41852221e-06-8.24555388e-08j\n",
      " -8.41440143e-06-8.23929257e-08j -8.41028376e-06-8.23303760e-08j\n",
      " -8.40616923e-06-8.22678895e-08j -8.40205782e-06-8.22054661e-08j\n",
      " -8.39794952e-06-8.21431058e-08j -8.39384435e-06-8.20808085e-08j\n",
      " -8.38974228e-06-8.20185740e-08j -8.38564332e-06-8.19564025e-08j\n",
      " -8.38154748e-06-8.18942936e-08j -8.37745473e-06-8.18322475e-08j\n",
      " -8.37336508e-06-8.17702639e-08j -8.36927854e-06-8.17083428e-08j\n",
      " -8.36519508e-06-8.16464842e-08j -8.36111472e-06-8.15846880e-08j\n",
      " -8.35703744e-06-8.15229540e-08j -8.35296325e-06-8.14612822e-08j\n",
      " -8.34889214e-06-8.13996725e-08j -8.34482411e-06-8.13381249e-08j\n",
      " -8.34075915e-06-8.12766392e-08j -8.33669727e-06-8.12152154e-08j\n",
      " -8.33263846e-06-8.11538535e-08j -8.32858271e-06-8.10925532e-08j\n",
      " -8.32453002e-06-8.10313146e-08j -8.32048040e-06-8.09701376e-08j\n",
      " -8.31643383e-06-8.09090221e-08j -8.31239031e-06-8.08479680e-08j\n",
      " -8.30834985e-06-8.07869753e-08j -8.30431243e-06-8.07260438e-08j\n",
      " -8.30027806e-06-8.06651735e-08j -8.29624673e-06-8.06043643e-08j\n",
      " -8.29221843e-06-8.05436162e-08j -8.28819318e-06-8.04829290e-08j\n",
      " -8.28417095e-06-8.04223027e-08j -8.28015176e-06-8.03617372e-08j\n",
      " -8.27613559e-06-8.03012324e-08j -8.27212244e-06-8.02407883e-08j\n",
      " -8.26811231e-06-8.01804048e-08j -8.26410521e-06-8.01200817e-08j\n",
      " -8.26010111e-06-8.00598191e-08j -8.25610003e-06-7.99996169e-08j\n",
      " -8.25210195e-06-7.99394749e-08j -8.24810688e-06-7.98793931e-08j\n",
      " -8.24411481e-06-7.98193715e-08j -8.24012574e-06-7.97594099e-08j\n",
      " -8.23613967e-06-7.96995082e-08j -8.23215659e-06-7.96396665e-08j\n",
      " -8.22817650e-06-7.95798846e-08j -8.22419940e-06-7.95201624e-08j]\n",
      "4001 2000\n"
     ]
    }
   ],
   "source": [
    "res_t = fft_ct.copy()\n",
    "print(res_t[-100:])\n",
    "n_sample = n\n",
    "print(len(t), n_sample)\n",
    "h = res_t\n",
    "H_r = np.zeros((n_sample, n_sample))\n",
    "H_i = np.zeros((n_sample, n_sample))\n",
    "for i in range(n_sample):\n",
    "    H_r[i, :] = np.real(h[i:n_sample + i])\n",
    "    H_i[i, :] = np.imag(h[i:n_sample + i])    "
   ]
  },
  {
   "cell_type": "code",
   "execution_count": 8,
   "id": "525a3596",
   "metadata": {
    "ExecuteTime": {
     "end_time": "2022-07-25T20:19:20.233506Z",
     "start_time": "2022-07-25T18:09:42.247420Z"
    },
    "scrolled": false
   },
   "outputs": [
    {
     "name": "stdout",
     "output_type": "stream",
     "text": [
      "error of decompose 1.7017808731778416e-11\n",
      "[2.21754616e+00 1.60653160e+00 2.70804735e-01 1.36580480e-01\n",
      " 3.35600928e-02 1.34967432e-02 6.93751389e-03 1.31423494e-03\n",
      " 6.39426783e-04 1.63604045e-04]\n",
      "error of decompose 7.845312690173137e-12\n",
      "[3.70775136e+00 7.31197046e-01 1.44712462e-01 4.63051693e-02\n",
      " 1.03549412e-02 2.82096269e-03 1.91708987e-03 4.39224021e-04\n",
      " 1.57122235e-04 6.97771545e-05]\n"
     ]
    }
   ],
   "source": [
    "sing_vs_r, Q_r = LA.eigh(H_r)\n",
    "sing_vs_i, Q_i = LA.eigh(H_i)\n",
    "phase_mat_r = np.diag(\n",
    "    [np.exp(-1j * np.angle(sing_v_r) / 2.0) for sing_v_r in sing_vs_r])\n",
    "vs_r = np.array([np.abs(sing_v_r) for sing_v_r in sing_vs_r])\n",
    "Qp_r = np.dot(Q_r, phase_mat_r)\n",
    "sort_array = np.argsort(vs_r)[::-1]\n",
    "vs_r = vs_r[sort_array]\n",
    "Qp_r = Qp_r[:, sort_array]\n",
    "\n",
    "phase_mat_i = np.diag(\n",
    "    [np.exp(-1j * np.angle(sing_v_i) / 2.0) for sing_v_i in sing_vs_i])\n",
    "vs_i = np.array([np.abs(sing_v_i) for sing_v_i in sing_vs_i])\n",
    "Qp_i = np.dot(Q_i, phase_mat_i)\n",
    "sort_array = np.argsort(vs_i)[::-1]\n",
    "vs_i = vs_i[sort_array]\n",
    "Qp_i = Qp_i[:, sort_array]\n",
    "\n",
    "print(\n",
    "    \"error of decompose\",\n",
    "    np.sum(\n",
    "        np.abs(H_r -\n",
    "               np.dot(np.dot(Qp_r, np.diag(vs_r)), (np.transpose(Qp_r))))))\n",
    "print(vs_r[:10])\n",
    "\n",
    "print(\n",
    "    \"error of decompose\",\n",
    "    np.sum(\n",
    "        np.abs(H_i -\n",
    "               np.dot(np.dot(Qp_i, np.diag(vs_i)), (np.transpose(Qp_i))))))\n",
    "print(vs_i[:10])"
   ]
  },
  {
   "cell_type": "code",
   "execution_count": 10,
   "id": "5b03ff84",
   "metadata": {
    "ExecuteTime": {
     "end_time": "2022-07-26T00:54:53.138060Z",
     "start_time": "2022-07-25T20:19:20.302876Z"
    }
   },
   "outputs": [
    {
     "name": "stdout",
     "output_type": "stream",
     "text": [
      "len of gamma 3\n",
      "3\n",
      "len of gamma 3\n",
      "3\n",
      "     pcost       dcost       gap    pres   dres\n",
      " 0: -5.2032e-02 -7.7285e+00  8e+03  9e+01  2e+02\n",
      " 1:  7.1503e+01 -2.0107e+02  4e+02  3e+00  6e+00\n",
      " 2:  1.7641e+01 -2.2751e+01  4e+01  3e-02  6e-02\n",
      " 3:  1.7874e+00 -4.1414e+00  6e+00  4e-04  7e-04\n",
      " 4: -2.3470e-01 -1.6045e+00  1e+00  6e-05  1e-04\n",
      " 5: -3.7662e-01 -1.4273e+00  1e+00  5e-05  9e-05\n",
      " 6: -7.5451e-01 -9.0757e-01  2e-01  1e-06  3e-06\n",
      " 7: -8.1107e-01 -8.3137e-01  2e-02  3e-15  7e-13\n",
      " 8: -8.1855e-01 -8.2092e-01  2e-03  2e-15  4e-12\n",
      " 9: -8.1934e-01 -8.2005e-01  7e-04  2e-15  1e-12\n",
      "10: -8.1940e-01 -8.2002e-01  6e-04  2e-15  1e-12\n",
      "11: -8.1961e-01 -8.1973e-01  1e-04  2e-15  2e-13\n",
      "12: -8.1960e-01 -8.1969e-01  8e-05  2e-15  1e-13\n",
      "13: -8.1962e-01 -8.1963e-01  2e-05  2e-15  3e-14\n",
      "14: -8.1962e-01 -8.1963e-01  1e-05  2e-15  1e-14\n",
      "15: -8.1962e-01 -8.1962e-01  2e-06  2e-15  4e-15\n",
      "16: -8.1962e-01 -8.1962e-01  1e-06  2e-15  2e-14\n",
      "17: -8.1962e-01 -8.1962e-01  4e-07  2e-15  4e-14\n",
      "18: -8.1962e-01 -8.1962e-01  2e-07  2e-15  2e-14\n",
      "19: -8.1962e-01 -8.1962e-01  7e-08  2e-15  2e-14\n",
      "20: -8.1962e-01 -8.1962e-01  5e-08  2e-15  2e-14\n",
      "21: -8.1962e-01 -8.1962e-01  3e-09  2e-15  1e-13\n",
      "22: -8.1962e-01 -8.1962e-01  3e-11  2e-15  2e-12\n",
      "23: -8.1962e-01 -8.1962e-01  3e-13  2e-15  2e-12\n",
      "24: -8.1962e-01 -8.1962e-01  3e-15  2e-15  2e-12\n",
      "Terminated (singular KKT matrix).\n",
      "[-0.23226145-0.0088597j  -0.06154131-0.32600628j -0.02128927+0.00533997j\n",
      "  0.29008626-0.2568305j   0.46638963+0.76174026j -0.10264433-0.17536919j]\n"
     ]
    },
    {
     "name": "stderr",
     "output_type": "stream",
     "text": [
      "/tmp/ipykernel_232032/2996366017.py:83: RuntimeWarning: overflow encountered in exp\n",
      "  plt.plot(w, phixx / (1 - np.exp(-beta * w)),\n",
      "/tmp/ipykernel_232032/2996366017.py:83: RuntimeWarning: invalid value encountered in true_divide\n",
      "  plt.plot(w, phixx / (1 - np.exp(-beta * w)),\n"
     ]
    },
    {
     "data": {
      "image/png": "[encoded data removed]",
      "text/plain": [
       "<Figure size 432x288 with 1 Axes>"
      ]
     },
     "metadata": {
      "image/png": {
       "height": 248,
       "width": 378
      },
      "needs_background": "light"
     },
     "output_type": "display_data"
    },
    {
     "ename": "FileNotFoundError",
     "evalue": "[Errno 2] No such file or directory: './ohmic-fermi/expn-6'",
     "output_type": "error",
     "traceback": [
      "\u001b[0;31m---------------------------------------------------------------------------\u001b[0m",
      "\u001b[0;31mFileNotFoundError\u001b[0m                         Traceback (most recent call last)",
      "Input \u001b[0;32mIn [10]\u001b[0m, in \u001b[0;36m<cell line: 1>\u001b[0;34m()\u001b[0m\n\u001b[1;32m     86\u001b[0m plt\u001b[38;5;241m.\u001b[39mshow()\n\u001b[1;32m     87\u001b[0m plt\u001b[38;5;241m.\u001b[39mclf()\n\u001b[0;32m---> 89\u001b[0m \u001b[43mnp\u001b[49m\u001b[38;5;241;43m.\u001b[39;49m\u001b[43msavetxt\u001b[49m\u001b[43m(\u001b[49m\u001b[38;5;124;43m\"\u001b[39;49m\u001b[38;5;124;43m./ohmic-fermi/expn-\u001b[39;49m\u001b[38;5;132;43;01m{}\u001b[39;49;00m\u001b[38;5;124;43m\"\u001b[39;49m\u001b[38;5;241;43m.\u001b[39;49m\u001b[43mformat\u001b[49m\u001b[43m(\u001b[49m\u001b[38;5;28;43mlen\u001b[39;49m\u001b[43m(\u001b[49m\u001b[43mexpn\u001b[49m\u001b[43m)\u001b[49m\u001b[43m)\u001b[49m\u001b[43m,\u001b[49m\u001b[43m \u001b[49m\u001b[43mexpn\u001b[49m\u001b[43m)\u001b[49m\n\u001b[1;32m     90\u001b[0m np\u001b[38;5;241m.\u001b[39msavetxt(\u001b[38;5;124m\"\u001b[39m\u001b[38;5;124m./ohmic-fermi/etal-\u001b[39m\u001b[38;5;132;01m{}\u001b[39;00m\u001b[38;5;124m\"\u001b[39m\u001b[38;5;241m.\u001b[39mformat(\u001b[38;5;28mlen\u001b[39m(etal)), etal)\n",
      "File \u001b[0;32m<__array_function__ internals>:5\u001b[0m, in \u001b[0;36msavetxt\u001b[0;34m(*args, **kwargs)\u001b[0m\n",
      "File \u001b[0;32m~/anaconda3/lib/python3.9/site-packages/numpy/lib/npyio.py:1368\u001b[0m, in \u001b[0;36msavetxt\u001b[0;34m(fname, X, fmt, delimiter, newline, header, footer, comments, encoding)\u001b[0m\n\u001b[1;32m   1365\u001b[0m     fname \u001b[38;5;241m=\u001b[39m os_fspath(fname)\n\u001b[1;32m   1366\u001b[0m \u001b[38;5;28;01mif\u001b[39;00m _is_string_like(fname):\n\u001b[1;32m   1367\u001b[0m     \u001b[38;5;66;03m# datasource doesn't support creating a new file ...\u001b[39;00m\n\u001b[0;32m-> 1368\u001b[0m     \u001b[38;5;28;43mopen\u001b[39;49m\u001b[43m(\u001b[49m\u001b[43mfname\u001b[49m\u001b[43m,\u001b[49m\u001b[43m \u001b[49m\u001b[38;5;124;43m'\u001b[39;49m\u001b[38;5;124;43mwt\u001b[39;49m\u001b[38;5;124;43m'\u001b[39;49m\u001b[43m)\u001b[49m\u001b[38;5;241m.\u001b[39mclose()\n\u001b[1;32m   1369\u001b[0m     fh \u001b[38;5;241m=\u001b[39m np\u001b[38;5;241m.\u001b[39mlib\u001b[38;5;241m.\u001b[39m_datasource\u001b[38;5;241m.\u001b[39mopen(fname, \u001b[38;5;124m'\u001b[39m\u001b[38;5;124mwt\u001b[39m\u001b[38;5;124m'\u001b[39m, encoding\u001b[38;5;241m=\u001b[39mencoding)\n\u001b[1;32m   1370\u001b[0m     own_fh \u001b[38;5;241m=\u001b[39m \u001b[38;5;28;01mTrue\u001b[39;00m\n",
      "\u001b[0;31mFileNotFoundError\u001b[0m: [Errno 2] No such file or directory: './ohmic-fermi/expn-6'"
     ]
    },
    {
     "data": {
      "text/plain": [
       "<Figure size 432x288 with 0 Axes>"
      ]
     },
     "metadata": {},
     "output_type": "display_data"
    }
   ],
   "source": [
    "for n_gamma_r, n_gamma_i in ([3,3], [4,3], [4,4]):\n",
    "    print(\"len of gamma\", n_gamma_r)\n",
    "    for i in [n_gamma_r]:\n",
    "        print(i)\n",
    "        gamma_r = np.roots(Qp_r[:,i][::-1])\n",
    "    gamma_new_r = gamma_r[np.argsort(np.abs(gamma_r))[:n_gamma_r]]\n",
    "    t_new_r = 2*n*np.log(gamma_new_r)\n",
    "    \n",
    "    print(\"len of gamma\", n_gamma_i)\n",
    "    for i in [n_gamma_i]:\n",
    "        print(i)\n",
    "        gamma_i = np.roots(Qp_i[:,i][::-1])\n",
    "    gamma_new_i = gamma_i[np.argsort(np.abs(gamma_i))[:n_gamma_i]]\n",
    "    t_new_i = 2*n*np.log(gamma_new_i)\n",
    "    \n",
    "    gamma_new = np.append(gamma_new_r, gamma_new_i)\n",
    "    t_new = np.append(t_new_r, t_new_i)\n",
    "    n_gamma = n_gamma_r + n_gamma_i\n",
    "    \n",
    "    n_col = n_sample*2+1\n",
    "    n_row = n_gamma\n",
    "    gamma_m = np.zeros((2 * n_col, 2 * n_row), dtype=float)\n",
    "    for i in range(n_row):\n",
    "        for j in range(n_col):\n",
    "            gamma_m[j, i] = np.real(gamma_new[i]**j)\n",
    "            gamma_m[n_col + j, n_row + i] = np.real(gamma_new[i]**j)\n",
    "            gamma_m[j, n_row + i] = -np.imag(gamma_new[i]**j)\n",
    "            gamma_m[n_col + j, i] = np.imag(gamma_new[i]**j)\n",
    "    h_m = np.append(np.real(h), np.imag(h))\n",
    "\n",
    "    # freq_d = np.linspace(-1000, 1000, 2 * n_col)\n",
    "    freq_d = np.append(np.append(np.linspace(-10000, 10, n_col//2), np.linspace(-10, 10, n_col + 1)), np.linspace(10, 10000, n_col//2))\n",
    "\n",
    "    freq_m = np.zeros((2 * n_col, 2 * n_row), dtype=float)\n",
    "    expn = -t_new / scale\n",
    "    for i in range(n_row):\n",
    "        for j in range(2 * n_col):\n",
    "            freq_m[j, i] = np.real(expn[i]) / (np.real(expn[i])**2 + (np.imag(expn[i]) - freq_d[j])**2)\n",
    "            freq_m[j, n_row + i] = (np.imag(expn[i]) - freq_d[j]) / (np.real(expn[i])**2 + (np.imag(expn[i]) - freq_d[j])**2)\n",
    "\n",
    "    C = numpy_to_cvxopt_matrix(gamma_m)\n",
    "    d = numpy_to_cvxopt_matrix(h_m)\n",
    "    A = numpy_to_cvxopt_matrix(-freq_m)\n",
    "    b = numpy_to_cvxopt_matrix(np.zeros(2 * n_col))\n",
    "    Q = C.T * C\n",
    "    q = - d.T * C\n",
    "\n",
    "    # opts = {'show_progress': True, 'abstol': 1e-7, 'reltol': 1e-6, 'feastol': 1e-7}\n",
    "    opts = {'show_progress': True, 'abstol': 1e-24, 'reltol': 1e-24, 'feastol': 1e-24}\n",
    "    for k, v in opts.items():\n",
    "        solvers.options[k] = v\n",
    "    sol = solvers.qp(Q, q.T, A, b, None, None, None, None)\n",
    "    omega_new_temp = np.array(sol['x']).reshape(2, n_gamma)\n",
    "    omega_new = omega_new_temp[0,:] + 1.j*omega_new_temp[1,:]\n",
    "    print(omega_new)\n",
    "\n",
    "    etal_p = omega_new\n",
    "    expn_p = -t_new / scale\n",
    "    \n",
    "    etal = omega_new.copy()\n",
    "    etar = np.conjugate(omega_new)\n",
    "    etaa = np.abs(omega_new)\n",
    "    expn = -t_new / scale\n",
    "\n",
    "    len_ = 10000\n",
    "    spe_wid = 20\n",
    "\n",
    "    w = np.append(np.linspace(-spe_wid, 0, len_),np.linspace(0, spe_wid, len_))\n",
    "\n",
    "    w_sp, lamd_sp, gams_sp, beta_sp = sp.symbols(\n",
    "        r\"\\omega , \\lambda, \\gamma, \\beta\", real=True)\n",
    "\n",
    "    phixx = w * lams1 * np.exp(- gams1 * np.abs(w))\n",
    "    res_J = np.zeros(len(w),dtype=complex)\n",
    "    fit_J(w, res_J, expn, etal)\n",
    "\n",
    "    # plt.plot(w, phixx / (1 - np.exp(-beta * w)) - res_J.real,\n",
    "    #          'r',\n",
    "    #          label='phixx')\n",
    "    plt.plot(w, res_J.real,\n",
    "             'b',\n",
    "             label='phixx')\n",
    "    plt.plot(w, phixx / (1 - np.exp(-beta * w)),\n",
    "             'r--',\n",
    "             label='phixx')\n",
    "    plt.show()\n",
    "    plt.clf()\n",
    "    \n",
    "    np.savetxt(\"./ohmic-fermi/expn-{}\".format(len(expn)), expn)\n",
    "    np.savetxt(\"./ohmic-fermi/etal-{}\".format(len(etal)), etal)"
   ]
  },
  {
   "cell_type": "code",
   "execution_count": null,
   "id": "a37bc8d0",
   "metadata": {},
   "outputs": [],
   "source": []
  }
 ],
 "metadata": {
  "kernelspec": {
   "display_name": "Python 3 (ipykernel)",
   "language": "python",
   "name": "python3"
  },
  "language_info": {
   "codemirror_mode": {
    "name": "ipython",
    "version": 3
   },
   "file_extension": ".py",
   "mimetype": "text/x-python",
   "name": "python",
   "nbconvert_exporter": "python",
   "pygments_lexer": "ipython3",
   "version": "3.9.13"
  },
  "latex_envs": {
   "LaTeX_envs_menu_present": true,
   "autoclose": false,
   "autocomplete": true,
   "bibliofile": "biblio.bib",
   "cite_by": "apalike",
   "current_citInitial": 1,
   "eqLabelWithNumbers": true,
   "eqNumInitial": 1,
   "hotkeys": {
    "equation": "Ctrl-E",
    "itemize": "Ctrl-I"
   },
   "labels_anchors": false,
   "latex_user_defs": false,
   "report_style_numbering": false,
   "user_envs_cfg": false
  }
 },
 "nbformat": 4,
 "nbformat_minor": 5
}
